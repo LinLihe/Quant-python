{
 "cells": [
  {
   "cell_type": "markdown",
   "metadata": {},
   "source": [
    "# Python Basics\n",
    "\n",
    "This is a collection of exercises that I wrote as a refresher of key Python features.\n",
    "\n",
    "## Built-in datatypes and variable binding\n",
    "Python uses <a href=“http://stackoverflow.com/questions/11328920/is-python-strongly-typed”>dynamic typing</a>. In short, this means that the type of data in a variable is not explicitly identified in a program, like it is in C++ or Java. "
   ]
  },
  {
   "cell_type": "code",
   "execution_count": 15,
   "metadata": {
    "collapsed": false
   },
   "outputs": [
    {
     "name": "stdout",
     "output_type": "stream",
     "text": [
      "2 <type 'int'>\n",
      "3.0 <type 'float'>\n",
      "3 <type 'int'>\n",
      "QFRM <type 'str'>\n",
      "QFRMLiam Lin\n",
      "False <type 'bool'>\n",
      "True <type 'bool'>\n",
      "1267650600228229401496703205376 <type 'long'>\n",
      "16 <type 'int'>\n",
      "['a', 2, 3.14, True] <type 'list'>\n"
     ]
    }
   ],
   "source": [
    "x = 2\n",
    "print x, type(x)\n",
    "x = x + 1.0\n",
    "print x, type(x)\n",
    "print int(x), type(int(x))\n",
    "x = 'QFRM'\n",
    "y = 'Liam Lin'\n",
    "print x, type (x)\n",
    "print (x + y)\n",
    "x = False \n",
    "print x, type(x)\n",
    "x = not x\n",
    "print x, type(x)\n",
    "print 2**100, type(2**100)\n",
    "print 2**4, type(2**4)\n",
    "x = ['a',2,3.14,True]\n",
    "print x, type(x)"
   ]
  },
  {
   "cell_type": "markdown",
   "metadata": {},
   "source": [
    "## ints and floats"
   ]
  },
  {
   "cell_type": "code",
   "execution_count": 18,
   "metadata": {
    "collapsed": false
   },
   "outputs": [
    {
     "name": "stdout",
     "output_type": "stream",
     "text": [
      "7/2 is 3\n",
      "7%2 is 1\n",
      "7.0/2 is 3.5\n",
      "2 <type 'int'>\n"
     ]
    }
   ],
   "source": [
    "print \"7/2 is\", 7/2 ##整型\n",
    "print \"7%2 is\", 7%2 ##余数\n",
    "print \"7.0/2 is\", 7.0/2\n",
    "x = 8;\n",
    "y = 3;\n",
    "z = x/y;\n",
    "print z, type(z)"
   ]
  },
  {
   "cell_type": "markdown",
   "metadata": {},
   "source": [
    "### boolean"
   ]
  },
  {
   "cell_type": "code",
   "execution_count": 19,
   "metadata": {
    "collapsed": false
   },
   "outputs": [
    {
     "name": "stdout",
     "output_type": "stream",
     "text": [
      "a is True\n",
      "b is False\n",
      "a and b is False\n",
      "a or b is True\n"
     ]
    }
   ],
   "source": [
    "a = True\n",
    "b = not a\n",
    "print 'a is', a\n",
    "print 'b is', b\n",
    "print 'a and b is', a and b\n",
    "print 'a or b is', a or b\n",
    "\n",
    "# a is True\n",
    "# b is False\n",
    "# a and b is False\n",
    "# a or b is True"
   ]
  },
  {
   "cell_type": "markdown",
   "metadata": {},
   "source": [
    "### Strings\n",
    "\n",
    "strings (type 'str') are objects, strings are concatenated using the '+' operator"
   ]
  },
  {
   "cell_type": "code",
   "execution_count": 47,
   "metadata": {
    "collapsed": false
   },
   "outputs": [
    {
     "name": "stdout",
     "output_type": "stream",
     "text": [
      "Hello World\n",
      "['Hello', 'World']\n",
      "Hello_World\n"
     ]
    }
   ],
   "source": [
    "# Hello World\n",
    "# ['Hello', 'World']\n",
    "# Hello_World"
   ]
  },
  {
   "cell_type": "markdown",
   "metadata": {},
   "source": [
    "### Lists"
   ]
  },
  {
   "cell_type": "code",
   "execution_count": 23,
   "metadata": {
    "collapsed": false
   },
   "outputs": [
    {
     "name": "stdout",
     "output_type": "stream",
     "text": [
      "[1, 2, 3, 4, 5] <type 'list'>\n",
      "[0, 1, 2, 3, 4, 5, 6, 7, 8, 9] [0, 1] [1, 2] [2, 3, 4, 5, 6, 7, 8, 9]\n",
      "[0, 1, 2, 3, 4, 5, 6, 7, 8, 9] <type 'list'>\n",
      "[1, 3, 5]\n",
      "[2, 3]\n",
      "[2, 3, 2, 3]\n",
      "[0, 0, 0, 0, 0, 0, 0, 0, 0, 0]\n"
     ]
    }
   ],
   "source": [
    "x = [1,2,3,4,5]\n",
    "print x, type(x)\n",
    "x = range(0,10)\n",
    "print x, x[:2],x[1:3], x[2:]\n",
    "print x, type(x)\n",
    "y = range(1,6,2) #（起点，终点，间隔） # range 是不计入终点的\n",
    "print y\n",
    "z = range(2,4,1) \n",
    "print z\n",
    "print z*2 #数列*2是复制数列\n",
    "print [0]*10"
   ]
  },
  {
   "cell_type": "code",
   "execution_count": 24,
   "metadata": {
    "collapsed": false
   },
   "outputs": [
    {
     "name": "stdout",
     "output_type": "stream",
     "text": [
      "[0, 1, 4, 9, 16, 25, 36, 49, 64, 81]\n",
      "[(0, 0), (1, 1), (2, 4), (3, 9), (4, 16), (5, 25), (6, 36), (7, 49), (8, 64), (9, 81)]\n"
     ]
    }
   ],
   "source": [
    "#List comprehension\n",
    "\n",
    "print[x*x for x in range(0,10)]\n",
    "print[(x,x*x) for x in range(0,10)]"
   ]
  },
  {
   "cell_type": "markdown",
   "metadata": {},
   "source": [
    "## Looping (for, while, reduce)"
   ]
  },
  {
   "cell_type": "code",
   "execution_count": 26,
   "metadata": {
    "collapsed": false
   },
   "outputs": [
    {
     "name": "stdout",
     "output_type": "stream",
     "text": [
      "5050\n"
     ]
    }
   ],
   "source": [
    "#for\n",
    "#sum integers from 1 to 100\n",
    "sum1 = 0\n",
    "for n in range(1,101):\n",
    "    sum1 += n\n",
    "\n",
    "print sum1"
   ]
  },
  {
   "cell_type": "code",
   "execution_count": 27,
   "metadata": {
    "collapsed": false
   },
   "outputs": [
    {
     "name": "stdout",
     "output_type": "stream",
     "text": [
      "5050\n"
     ]
    }
   ],
   "source": [
    "#while\n",
    "#sum integers from 1 to 100\n",
    "\n",
    "sum1 = 0\n",
    "n = 1\n",
    "while n < 101: #别忘了冒号\n",
    "    sum1 += n \n",
    "    n = n + 1\n",
    "print sum1"
   ]
  },
  {
   "cell_type": "code",
   "execution_count": 28,
   "metadata": {
    "collapsed": false
   },
   "outputs": [
    {
     "name": "stdout",
     "output_type": "stream",
     "text": [
      "5050\n"
     ]
    }
   ],
   "source": [
    "#reduce\n",
    "#sum integers from 1 to 100\n",
    "print reduce(lambda n, sum1: n + sum1, range(1,101))  \n",
    "\n",
    "#lambda for define a function without a name\n",
    "#通常lambda 和 reduce 结合使用"
   ]
  },
  {
   "cell_type": "code",
   "execution_count": 29,
   "metadata": {
    "collapsed": false
   },
   "outputs": [
    {
     "name": "stdout",
     "output_type": "stream",
     "text": [
      "5050\n"
     ]
    }
   ],
   "source": [
    "#Python's sum\n",
    "print sum(range(1,101))"
   ]
  },
  {
   "cell_type": "code",
   "execution_count": 15,
   "metadata": {
    "collapsed": false
   },
   "outputs": [
    {
     "name": "stdout",
     "output_type": "stream",
     "text": [
      "5050.0\n"
     ]
    }
   ],
   "source": [
    "#preferred way to sum floating point (faster)\n",
    "print math.fsum(range(1,101))"
   ]
  },
  {
   "cell_type": "markdown",
   "metadata": {},
   "source": [
    "### Conditional execution (if)\n"
   ]
  },
  {
   "cell_type": "code",
   "execution_count": null,
   "metadata": {
    "collapsed": true
   },
   "outputs": [],
   "source": []
  },
  {
   "cell_type": "markdown",
   "metadata": {},
   "source": [
    "### Dictionaries"
   ]
  },
  {
   "cell_type": "code",
   "execution_count": 48,
   "metadata": {
    "collapsed": false
   },
   "outputs": [
    {
     "name": "stdout",
     "output_type": "stream",
     "text": [
      "104.34\n"
     ]
    }
   ],
   "source": []
  },
  {
   "cell_type": "code",
   "execution_count": 50,
   "metadata": {
    "collapsed": false
   },
   "outputs": [
    {
     "name": "stdout",
     "output_type": "stream",
     "text": [
      "{' ': 8, '.': 1, 'T': 1, 'a': 1, 'c': 1, 'b': 1, 'e': 3, 'd': 1, 'g': 1, 'f': 1, 'i': 1, 'h': 2, 'k': 1, 'j': 1, 'm': 1, 'l': 1, 'o': 4, 'n': 1, 'q': 1, 'p': 1, 's': 1, 'r': 2, 'u': 2, 't': 1, 'w': 1, 'v': 1, 'y': 1, 'x': 1, 'z': 1}\n"
     ]
    }
   ],
   "source": [
    "#distribution of characters in a string\n",
    "s = \"The quick brown fox jumps over the lazy dog.\"\n"
   ]
  },
  {
   "cell_type": "markdown",
   "metadata": {},
   "source": [
    "## Functions"
   ]
  },
  {
   "cell_type": "code",
   "execution_count": 25,
   "metadata": {
    "collapsed": false
   },
   "outputs": [
    {
     "name": "stdout",
     "output_type": "stream",
     "text": [
      "0!= 1\n",
      "1!= 1\n",
      "2!= 2\n",
      "3!= 6\n",
      "4!= 24\n"
     ]
    }
   ],
   "source": [
    "def factorial(n):\n",
    "  \n"
   ]
  },
  {
   "cell_type": "code",
   "execution_count": 56,
   "metadata": {
    "collapsed": false
   },
   "outputs": [
    {
     "name": "stdout",
     "output_type": "stream",
     "text": [
      "16\n"
     ]
    }
   ],
   "source": [
    "def gcd(a, b):\n",
    "# write this function...\n",
    "    \n",
    "    \n",
    "print gcd(144, 1024)"
   ]
  },
  {
   "cell_type": "code",
   "execution_count": null,
   "metadata": {
    "collapsed": true
   },
   "outputs": [],
   "source": []
  }
 ],
 "metadata": {
  "kernelspec": {
   "display_name": "Python 2",
   "language": "python",
   "name": "python2"
  },
  "language_info": {
   "codemirror_mode": {
    "name": "ipython",
    "version": 2
   },
   "file_extension": ".py",
   "mimetype": "text/x-python",
   "name": "python",
   "nbconvert_exporter": "python",
   "pygments_lexer": "ipython2",
   "version": "2.7.13"
  }
 },
 "nbformat": 4,
 "nbformat_minor": 0
}
